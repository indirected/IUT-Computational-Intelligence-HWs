{
 "cells": [
  {
   "cell_type": "markdown",
   "metadata": {},
   "source": [
    "# Computational Intelligence - Homework 3\n",
    "## Mohammad Bahrami 972133 - Ghanbar Timar 9724853"
   ]
  },
  {
   "cell_type": "code",
   "execution_count": 52,
   "metadata": {},
   "outputs": [],
   "source": [
    "import numpy as np\n",
    "import pandas as pd\n",
    "import matplotlib.pyplot as plt\n",
    "import torch\n",
    "import torch.nn as nn\n",
    "import torch.nn.functional as F\n",
    "from torchvision import datasets, transforms, models\n",
    "import typing\n",
    "import torchinfo\n",
    "from tqdm.autonotebook import tqdm\n",
    "import wandb\n",
    "import json\n",
    "import os\n",
    "os.environ[\"WANDB_SILENT\"] = \"true\""
   ]
  },
  {
   "cell_type": "markdown",
   "metadata": {},
   "source": [
    "## Part 1"
   ]
  },
  {
   "cell_type": "markdown",
   "metadata": {},
   "source": [
    "### Default Config"
   ]
  },
  {
   "cell_type": "code",
   "execution_count": 12,
   "metadata": {},
   "outputs": [],
   "source": [
    "class Config:\n",
    "    OutputFile = 'Log.txt'\n",
    "    Device = 'cuda' if torch.cuda.is_available() else 'cpu'\n",
    "    LearningRate = 0.0001\n",
    "    BatchSize = 128\n",
    "    Epochs = 30\n",
    "    \n",
    "\n",
    "    ConvDims = (64, 128, 256)\n",
    "    ConvKernelSizes = 3\n",
    "    PoolKernelSizes = 2\n",
    "    FCDims = (256,)\n",
    "    ConvDropout = 0.25\n",
    "    FCDropout = 0.5\n",
    "\n",
    "\n",
    "    @staticmethod\n",
    "    def _get_dict():\n",
    "        return {key: value for key, value in Config.__dict__.items() if not key.startswith('_')}"
   ]
  },
  {
   "cell_type": "markdown",
   "metadata": {},
   "source": [
    "### Data Preparation"
   ]
  },
  {
   "cell_type": "code",
   "execution_count": 13,
   "metadata": {},
   "outputs": [],
   "source": [
    "dataset_train = datasets.FashionMNIST(root='.', download=False, train=True, transform=transforms.ToTensor())\n",
    "dataset_test = datasets.FashionMNIST(root='.', download=False, train=False, transform=transforms.ToTensor())\n",
    "dataset_eval, dataset_test = torch.utils.data.random_split(\n",
    "    dataset=dataset_test,\n",
    "    lengths=[\n",
    "        round(len(dataset_test)*0.5),\n",
    "        round(len(dataset_test)*0.5)\n",
    "    ],\n",
    "    generator=torch.Generator().manual_seed(9724133)\n",
    ")\n",
    "\n",
    "\n",
    "label_decode = pd.Series({\n",
    "    0: 'T-shirt/top',\n",
    "    1: 'Trouser',\n",
    "    2: 'Pullover',\n",
    "    3: 'Dress',\n",
    "    4: 'Coat',\n",
    "    5: 'Sandal',\n",
    "    6: 'Shirt',\n",
    "    7: 'Sneaker',\n",
    "    8: 'Bag',\n",
    "    9: 'Ankle boot'\n",
    "})\n",
    "image_size = dataset_train[0][0].shape"
   ]
  },
  {
   "cell_type": "code",
   "execution_count": 14,
   "metadata": {},
   "outputs": [
    {
     "data": {
      "image/png": "[encoded data removed]",
      "text/plain": [
       "<Figure size 864x432 with 8 Axes>"
      ]
     },
     "metadata": {
      "needs_background": "light"
     },
     "output_type": "display_data"
    }
   ],
   "source": [
    "# Showing 5 Random samples\n",
    "n = 8\n",
    "size = 3\n",
    "indcs = np.random.randint(0, len(dataset_train), size=(n,))\n",
    "fig, axs = plt.subplots(nrows=n//4, ncols=4, squeeze=False, figsize=(size*4, size*n//4))\n",
    "for i in range(n):\n",
    "    axs[i//4][i%4].imshow(dataset_train[indcs[i]][0].squeeze(), cmap='gray')\n",
    "    axs[i//4][i%4].set_title(label_decode[dataset_train[indcs[i]][1]])"
   ]
  },
  {
   "cell_type": "markdown",
   "metadata": {},
   "source": [
    "### Model Definition"
   ]
  },
  {
   "cell_type": "code",
   "execution_count": 15,
   "metadata": {},
   "outputs": [],
   "source": [
    "class TimiFashion(nn.Module):\n",
    "    def __init__(\n",
    "        self,\n",
    "        input_shape: typing.Tuple[int], #(num_chnnels, width, height)\n",
    "        num_classes: int,\n",
    "        conv_dims: typing.Iterable[int],\n",
    "        conv_kernel_sizes: int,\n",
    "        pool_kernel_sizes: int,\n",
    "        fc_dims: typing.Iterable[int],\n",
    "        dropouts: typing.Dict[str, float]\n",
    "        ):\n",
    "        super().__init__()\n",
    "\n",
    "        self.dropouts = dropouts\n",
    "\n",
    "        self.convs = nn.ModuleList(\n",
    "            [\n",
    "                nn.Conv2d(\n",
    "                    in_channels=input_shape[0],\n",
    "                    out_channels=conv_dims[0],\n",
    "                    kernel_size=conv_kernel_sizes,\n",
    "                    padding='same'\n",
    "                )\n",
    "            ] + [\n",
    "                nn.Conv2d(\n",
    "                    in_channels=conv_dims[i],\n",
    "                    out_channels=conv_dims[i+1],\n",
    "                    kernel_size=conv_kernel_sizes,\n",
    "                    padding='same'\n",
    "                )\n",
    "                for i in range(len(conv_dims) - 1)\n",
    "            ]\n",
    "        )\n",
    "\n",
    "        self.pools = nn.ModuleList([\n",
    "            nn.MaxPool2d(\n",
    "                kernel_size=pool_kernel_sizes,\n",
    "                # padding='same'\n",
    "            )\n",
    "            for i in range(len(conv_dims))\n",
    "        ])\n",
    "\n",
    "        self.batchnorms = nn.ModuleList([\n",
    "            nn.BatchNorm2d(\n",
    "                num_features=conv_dims[i],\n",
    "            )\n",
    "            for i in range(len(conv_dims))\n",
    "        ])\n",
    "\n",
    "        self.fcs = nn.ModuleList(\n",
    "            [\n",
    "                nn.Linear(\n",
    "                    in_features=conv_dims[-1] * (input_shape[1] // pool_kernel_sizes**len(conv_dims)) * (input_shape[2] // pool_kernel_sizes**len(conv_dims)),\n",
    "                    out_features=fc_dims[0]\n",
    "                )\n",
    "            ] + [\n",
    "                nn.Linear(\n",
    "                    in_features=fc_dims[i],\n",
    "                    out_features=fc_dims[i+1]\n",
    "                )\n",
    "                for i in range(len(fc_dims) - 1)\n",
    "            ] + [\n",
    "                nn.Linear(\n",
    "                    in_features=fc_dims[-1],\n",
    "                    out_features=num_classes\n",
    "                )\n",
    "            ]\n",
    "        )\n",
    "\n",
    "    def forward(self, x): #(batch_size, 28, 28, 1)\n",
    "        for i in range(len(self.convs)):\n",
    "            x = self.convs[i](x)\n",
    "            x = self.batchnorms[i](x)\n",
    "            x = F.relu(x)\n",
    "            x = self.pools[i](x)\n",
    "            x = F.dropout(x, p=self.dropouts['conv'], training=self.training)\n",
    "\n",
    "        x = torch.reshape(x, shape=(x.shape[0], -1))\n",
    "\n",
    "        for i in range(len(self.fcs) - 1):\n",
    "            x = self.fcs[i](x)\n",
    "            x = F.relu(x)\n",
    "            x = F.dropout(x, p=self.dropouts['fc'], training=self.training)\n",
    "        x = self.fcs[-1](x)\n",
    "        # x.shape: (batch_size, num_class)\n",
    "        return F.softmax(x, dim=1)\n"
   ]
  },
  {
   "cell_type": "markdown",
   "metadata": {},
   "source": [
    "### Train / Test Loop"
   ]
  },
  {
   "cell_type": "code",
   "execution_count": 16,
   "metadata": {},
   "outputs": [],
   "source": [
    "def train(\n",
    "    model: nn.Module,\n",
    "    X: torch.Tensor,\n",
    "    Y: torch.Tensor,\n",
    "    criterion: nn.Module,\n",
    "    optimizer: torch.optim.Optimizer\n",
    "):\n",
    "    model.train()\n",
    "    optimizer.zero_grad()\n",
    "    out = model(X)\n",
    "    loss = criterion(out, Y)\n",
    "    loss.backward()\n",
    "    optimizer.step()\n",
    "\n",
    "    prediction = torch.argmax(out, dim=1)\n",
    "    correct = (prediction == Y).sum()\n",
    "    total = Y.shape[0]\n",
    "    return loss.item(), correct.item(), total\n",
    "\n",
    "\n",
    "@torch.no_grad()\n",
    "def evaluation(\n",
    "    model: nn.Module,\n",
    "    X: torch.Tensor,\n",
    "    Y: torch.Tensor\n",
    "):\n",
    "    model.eval()\n",
    "    out = model(X)\n",
    "    prediction = torch.argmax(out, dim=1)\n",
    "    correct = (prediction == Y).sum()\n",
    "    total = Y.shape[0]\n",
    "    model.train()\n",
    "    return correct.item(), total"
   ]
  },
  {
   "cell_type": "markdown",
   "metadata": {},
   "source": [
    "### Fit and Plot Functions"
   ]
  },
  {
   "cell_type": "code",
   "execution_count": 17,
   "metadata": {},
   "outputs": [],
   "source": [
    "def fit(config: dict=None, summary: bool=False, nested_tqdm: bool=False, use_wandb: bool=True):\n",
    "    if config is None:\n",
    "        config=Config._get_dict()\n",
    "\n",
    "    if use_wandb:\n",
    "        wandb.init(\n",
    "            project=\"CI_HW3\",\n",
    "            entity=\"indirected-team\",\n",
    "            config=config\n",
    "        )\n",
    "\n",
    "    train_loader = torch.utils.data.DataLoader(dataset_train, batch_size=config['BatchSize'], shuffle=True)\n",
    "    eval_loader = torch.utils.data.DataLoader(dataset_eval, batch_size=config['BatchSize']*2, shuffle=False)\n",
    "    test_loader = torch.utils.data.DataLoader(dataset_test, batch_size=config['BatchSize']*2, shuffle=False)\n",
    "\n",
    "    model = TimiFashion(\n",
    "        input_shape=image_size,\n",
    "        num_classes=label_decode.shape[0],\n",
    "        conv_dims=config['ConvDims'],\n",
    "        conv_kernel_sizes=config['ConvKernelSizes'],\n",
    "        pool_kernel_sizes=config['PoolKernelSizes'],\n",
    "        fc_dims=config['FCDims'],\n",
    "        dropouts={'conv': config['ConvDropout'], 'fc': config['FCDropout']}\n",
    "    ).to(config['Device'])\n",
    "\n",
    "    criterion = torch.nn.CrossEntropyLoss()\n",
    "    optimizer = torch.optim.Adam(model.parameters(), lr=config['LearningRate'])\n",
    "\n",
    "    with open(config['OutputFile'], 'w') as fp:\n",
    "        fp.write('')\n",
    "\n",
    "    if summary:\n",
    "        print(torchinfo.summary(\n",
    "            model,\n",
    "            input_size=(config['BatchSize'], image_size[0], image_size[1], image_size[2]),\n",
    "            col_names=[\n",
    "                \"input_size\",\n",
    "                \"output_size\",\n",
    "                \"num_params\",\n",
    "            ]\n",
    "        ))\n",
    "\n",
    "    try:\n",
    "        loss_list = []\n",
    "        train_acc_list = []\n",
    "        eval_acc_list = []\n",
    "        for epoch in tqdm(range(config['Epochs'])):\n",
    "            train_epoch_loss = 0\n",
    "            train_epoch_correct = 0\n",
    "            train_epoch_total = 0\n",
    "            gen = tqdm(train_loader, leave=False, desc='Train') if nested_tqdm else train_loader\n",
    "\n",
    "            for batch_x, batch_y in gen:\n",
    "                batch_x = batch_x.to(config['Device'])\n",
    "                batch_y = batch_y.to(config['Device'])\n",
    "                \n",
    "                train_loss, train_correct, train_total = train(model, batch_x, batch_y, criterion, optimizer)\n",
    "\n",
    "                train_epoch_loss += train_loss\n",
    "                train_epoch_correct += train_correct\n",
    "                train_epoch_total += train_total\n",
    "\n",
    "            eval_epoch_correct = 0\n",
    "            eval_epoch_total = 0\n",
    "            gen = tqdm(eval_loader, leave=False, desc='Validation') if nested_tqdm else eval_loader\n",
    "            for batch_x, batch_y in gen:\n",
    "                batch_x = batch_x.to(config['Device'])\n",
    "                batch_y = batch_y.to(config['Device'])\n",
    "                eval_correct, eval_total = evaluation(model, batch_x, batch_y)\n",
    "\n",
    "                eval_epoch_correct += eval_correct\n",
    "                eval_epoch_total += eval_total\n",
    "\n",
    "            train_epoch_loss = train_epoch_loss / len(train_loader)\n",
    "            train_epoch_accuracy = train_epoch_correct / train_epoch_total\n",
    "            eval_epoch_accuracy = eval_epoch_correct / eval_epoch_total\n",
    "\n",
    "            loss_list.append(train_epoch_loss)\n",
    "            train_acc_list.append(train_epoch_accuracy)\n",
    "            eval_acc_list.append(eval_epoch_accuracy)\n",
    "            \n",
    "            if use_wandb:\n",
    "                wandb.log({\n",
    "                    'loss': train_epoch_loss,\n",
    "                    'train accuracy': train_epoch_accuracy,\n",
    "                    'validation accuracy': eval_epoch_accuracy\n",
    "                })\n",
    "            \n",
    "            with open(config['OutputFile'], 'a') as fp:\n",
    "                fp.write(f'Epoch: {epoch + 1} - Loss: {train_epoch_loss:.6f} - Train Accuracy: {train_epoch_accuracy*100:.2f} - Validation Accuracy: {eval_epoch_accuracy*100:.2f}\\n')\n",
    "            # print(f'Epoch: {epoch + 1} - Loss: {train_epoch_loss:.6f} - Train Accuracy: {train_epoch_accuracy*100:.2f} - Validation Accuracy: {eval_epoch_accuracy*100:.2f}')\n",
    "    except KeyboardInterrupt:\n",
    "        pass\n",
    "\n",
    "\n",
    "    test_correct = 0\n",
    "    test_total = 0\n",
    "    for batch_x, batch_y in tqdm(test_loader, desc='Test'):\n",
    "        batch_x = batch_x.to(config['Device'])\n",
    "        batch_y = batch_y.to(config['Device'])\n",
    "        correct, total = evaluation(model, batch_x, batch_y)\n",
    "\n",
    "        test_correct += correct\n",
    "        test_total += total\n",
    "\n",
    "    test_accuracy = test_correct / test_total\n",
    "    with open(config['OutputFile'], 'a') as fp:\n",
    "        fp.write(f'Test Accuracy: {test_accuracy*100:.2f}\\n')\n",
    "    # print(f'Test Accuracy: {test_accuracy*100:.2f}')\n",
    "    if use_wandb:\n",
    "        wandb.log({'test accuracy': test_accuracy})\n",
    "        wandb.finish()\n",
    "    return loss_list, train_acc_list, eval_acc_list, test_accuracy"
   ]
  },
  {
   "cell_type": "code",
   "execution_count": 18,
   "metadata": {},
   "outputs": [],
   "source": [
    "def plots(loss_list, train_acc_list, eval_acc_list, figsize: tuple=(18, 5), saveto: str=None):\n",
    "    fig, axs = plt.subplots(1, 2, squeeze=False, figsize=figsize)\n",
    "    axs[0, 0].plot(\n",
    "        loss_list,\n",
    "        label='Train Loss'\n",
    "    )\n",
    "    axs[0, 0].set_title('Loss Over Epochs')\n",
    "    axs[0, 0].legend()\n",
    "    \n",
    "    axs[0, 1].plot(\n",
    "        train_acc_list,\n",
    "        label='Train Accuracy'\n",
    "    )\n",
    "    axs[0, 1].plot(\n",
    "        eval_acc_list,\n",
    "        label='Validation Accuracy'\n",
    "    )\n",
    "    axs[0, 1].legend()\n",
    "    axs[0, 1].set_title('Accuracy Over Epochs')\n",
    "\n",
    "    if saveto is not None:\n",
    "        fig.savefig(saveto, bbox_inches='tight')"
   ]
  },
  {
   "cell_type": "markdown",
   "metadata": {},
   "source": [
    "### Part 1.1"
   ]
  },
  {
   "cell_type": "markdown",
   "metadata": {},
   "source": [
    "#### Default Parameters Run"
   ]
  },
  {
   "cell_type": "code",
   "execution_count": null,
   "metadata": {},
   "outputs": [],
   "source": [
    "loss_list, train_acc_list, eval_acc_list, test_accuracy = fit(use_wandb=True, summary=True)"
   ]
  },
  {
   "cell_type": "code",
   "execution_count": 10,
   "metadata": {},
   "outputs": [
    {
     "name": "stdout",
     "output_type": "stream",
     "text": [
      "Test Accuracy: 91.78\n"
     ]
    },
    {
     "data": {
      "image/png": "[encoded data removed]",
      "text/plain": [
       "<Figure size 1296x360 with 2 Axes>"
      ]
     },
     "metadata": {
      "needs_background": "light"
     },
     "output_type": "display_data"
    }
   ],
   "source": [
    "print(f'Test Accuracy: {test_accuracy*100:.2f}')\n",
    "plots(loss_list, train_acc_list, eval_acc_list)"
   ]
  },
  {
   "cell_type": "markdown",
   "metadata": {},
   "source": [
    "#### Underfit Run"
   ]
  },
  {
   "cell_type": "code",
   "execution_count": null,
   "metadata": {},
   "outputs": [],
   "source": [
    "config = Config._get_dict()\n",
    "config['ConvDims'] = (2,)\n",
    "config['ConvKernelSizes'] = 20\n",
    "config['PoolKernelSizes'] = 2\n",
    "config['FCDims'] = (2,)\n",
    "config['Dropouts'] = {'conv': 0.6, 'fc': 0.8}\n",
    "print(pd.Series(config))\n",
    "loss_list, train_acc_list, eval_acc_list, test_accuracy = fit(config=config, use_wandb=True)"
   ]
  },
  {
   "cell_type": "code",
   "execution_count": 13,
   "metadata": {},
   "outputs": [
    {
     "name": "stdout",
     "output_type": "stream",
     "text": [
      "Test Accuracy: 47.18\n"
     ]
    },
    {
     "data": {
      "image/png": "[encoded data removed]",
      "text/plain": [
       "<Figure size 1296x360 with 2 Axes>"
      ]
     },
     "metadata": {
      "needs_background": "light"
     },
     "output_type": "display_data"
    }
   ],
   "source": [
    "print(f'Test Accuracy: {test_accuracy*100:.2f}')\n",
    "plots(loss_list, train_acc_list, eval_acc_list)"
   ]
  },
  {
   "cell_type": "markdown",
   "metadata": {},
   "source": [
    "#### Overfit Run"
   ]
  },
  {
   "cell_type": "code",
   "execution_count": null,
   "metadata": {},
   "outputs": [],
   "source": [
    "config = Config._get_dict()\n",
    "config['LearningRate'] = 0.00005\n",
    "config['ConvDims'] = (64, 128, 512, 1024)\n",
    "config['ConvKernelSizes'] = 3\n",
    "config['PoolKernelSizes'] = 2\n",
    "config['FCDims'] = (2048, 1024, 1024, 512)\n",
    "config['Dropouts'] = {'conv': 0.0001, 'fc': 0.00001}\n",
    "print(pd.Series(config))\n",
    "loss_list, train_acc_list, eval_acc_list, test_accuracy = fit(config=config, use_wandb=True)"
   ]
  },
  {
   "cell_type": "code",
   "execution_count": 24,
   "metadata": {},
   "outputs": [
    {
     "name": "stdout",
     "output_type": "stream",
     "text": [
      "Test Accuracy: 90.56\n"
     ]
    },
    {
     "data": {
      "image/png": "[encoded data removed]",
      "text/plain": [
       "<Figure size 1296x360 with 2 Axes>"
      ]
     },
     "metadata": {
      "needs_background": "light"
     },
     "output_type": "display_data"
    }
   ],
   "source": [
    "print(f'Test Accuracy: {test_accuracy*100:.2f}')\n",
    "plots(loss_list, train_acc_list, eval_acc_list)"
   ]
  },
  {
   "cell_type": "markdown",
   "metadata": {},
   "source": [
    "### Part 1.2 - Hyper-Parameter Tuning"
   ]
  },
  {
   "cell_type": "code",
   "execution_count": null,
   "metadata": {},
   "outputs": [],
   "source": [
    "parameters = Config._get_dict()\n",
    "parameters = {key: {'value': value} for key, value in parameters.items()}\n",
    "parameters['LearningRate'] = {\n",
    "    'distribution': 'uniform',\n",
    "    'min': 0,\n",
    "    'max': 0.001\n",
    "}\n",
    "parameters['BatchSize'] = {\n",
    "    'distribution': 'q_log_uniform_values',\n",
    "    'q': 16,\n",
    "    'min': 32,\n",
    "    'max': 256,\n",
    "}\n",
    "parameters['ConvDims'] = {\n",
    "    'values': [\n",
    "        (32, 64, 128),\n",
    "        (64, 128, 256),\n",
    "        (64, 256, 512),\n",
    "        (32, 128),\n",
    "        (64, 256),\n",
    "    ]\n",
    "}\n",
    "parameters['ConvKernelSizes'] = {\n",
    "    'values': [3, 5, 8]\n",
    "}\n",
    "parameters['FCDims'] = {\n",
    "    'values': [\n",
    "        (512, 128),\n",
    "        (256, 64),\n",
    "        (256,)\n",
    "    ]\n",
    "}\n",
    "parameters['ConvDropout'] = {\n",
    "    'values': [0.15, 0.25, 0.35]\n",
    "}\n",
    "parameters['FCDropout'] = {\n",
    "    'values': [0.4, 0.5, 0.6]\n",
    "}\n",
    "\n",
    "\n",
    "sweep_config = {\n",
    "    'name': 'Major-Random',\n",
    "    'method': 'random',\n",
    "    'metric': {\n",
    "        'name': 'validation accuracy',\n",
    "        'goal': 'maximize'\n",
    "    },\n",
    "    'parameters': parameters\n",
    "}\n",
    "\n",
    "\n",
    "sweep_id = wandb.sweep(\n",
    "    sweep_config,\n",
    "    entity='indirected-team',\n",
    "    project='CI_HW3'\n",
    ")"
   ]
  },
  {
   "cell_type": "code",
   "execution_count": 11,
   "metadata": {},
   "outputs": [
    {
     "data": {
      "application/vnd.jupyter.widget-view+json": {
       "model_id": "55118c5f8ee948a48d099e38a49e6e30",
       "version_major": 2,
       "version_minor": 0
      },
      "text/plain": [
       "  0%|          | 0/30 [00:00<?, ?it/s]"
      ]
     },
     "metadata": {},
     "output_type": "display_data"
    }
   ],
   "source": [
    "wandb.agent(sweep_id, fit, count=50)"
   ]
  },
  {
   "cell_type": "code",
   "execution_count": 58,
   "metadata": {},
   "outputs": [
    {
     "name": "stderr",
     "output_type": "stream",
     "text": [
      "\u001b[34m\u001b[1mwandb\u001b[0m: Sorting runs by -summary_metrics.validation accuracy\n"
     ]
    },
    {
     "name": "stdout",
     "output_type": "stream",
     "text": [
      "Best Hyper-Parameters:\n",
      "Device                  cuda\n",
      "Epochs                    30\n",
      "FCDims             [256, 64]\n",
      "ConvDims           [32, 128]\n",
      "BatchSize                112\n",
      "FCDropout                0.6\n",
      "OutputFile           Log.txt\n",
      "ConvDropout             0.35\n",
      "LearningRate        0.000923\n",
      "ConvKernelSizes            8\n",
      "PoolKernelSizes            2\n",
      "dtype: object\n",
      "------------------------------------------------------------\n",
      "Best Model Results:\n"
     ]
    },
    {
     "data": {
      "text/plain": [
       "loss                   1.542345\n",
       "train accuracy         0.920117\n",
       "validation accuracy      0.9204\n",
       "test accuracy            0.9186\n",
       "dtype: object"
      ]
     },
     "execution_count": 58,
     "metadata": {},
     "output_type": "execute_result"
    }
   ],
   "source": [
    "api = wandb.Api()\n",
    "sweep = api.sweep('indirected-team/CI_HW3/sdk25zhd')\n",
    "best_run = sweep.best_run()\n",
    "print('Best Hyper-Parameters:')\n",
    "print(pd.Series(best_run.config))\n",
    "print('-'*60)\n",
    "print('Best Model Results:')\n",
    "pd.Series(dict(best_run.summary))[['loss', 'train accuracy', 'validation accuracy', 'test accuracy']]"
   ]
  },
  {
   "cell_type": "markdown",
   "metadata": {},
   "source": [
    "## Part 2"
   ]
  },
  {
   "cell_type": "markdown",
   "metadata": {},
   "source": [
    "### Default Config"
   ]
  },
  {
   "cell_type": "code",
   "execution_count": 2,
   "metadata": {},
   "outputs": [],
   "source": [
    "class TransferConfig:\n",
    "    OutputFile = 'Log.txt'\n",
    "    Device = 'cuda' if torch.cuda.is_available() else 'cpu'\n",
    "    LearningRate = 0.0001\n",
    "    BatchSize = 128\n",
    "    Epochs = 10\n",
    "    \n",
    "\n",
    "    TailFCDims = []\n",
    "    TailFCDropout = 0.5\n",
    "    FreezePretrained = False\n",
    "\n",
    "    @staticmethod\n",
    "    def _get_dict():\n",
    "        return {key: value for key, value in TransferConfig.__dict__.items() if not key.startswith('_')}"
   ]
  },
  {
   "cell_type": "markdown",
   "metadata": {},
   "source": [
    "### Data Preparation"
   ]
  },
  {
   "cell_type": "code",
   "execution_count": 3,
   "metadata": {},
   "outputs": [],
   "source": [
    "transform_sequence = transforms.Compose([\n",
    "    transforms.Resize(56),\n",
    "    transforms.ToTensor()\n",
    "])\n",
    "dataset_train = datasets.FashionMNIST(root='.', download=False, train=True, transform=transform_sequence)\n",
    "dataset_test = datasets.FashionMNIST(root='.', download=False, train=False, transform=transform_sequence)\n",
    "dataset_eval, dataset_test = torch.utils.data.random_split(\n",
    "    dataset=dataset_test,\n",
    "    lengths=[\n",
    "        round(len(dataset_test)*0.5),\n",
    "        round(len(dataset_test)*0.5)\n",
    "    ],\n",
    "    generator=torch.Generator().manual_seed(9724133)\n",
    ")\n",
    "\n",
    "\n",
    "label_decode = pd.Series({\n",
    "    0: 'T-shirt/top',\n",
    "    1: 'Trouser',\n",
    "    2: 'Pullover',\n",
    "    3: 'Dress',\n",
    "    4: 'Coat',\n",
    "    5: 'Sandal',\n",
    "    6: 'Shirt',\n",
    "    7: 'Sneaker',\n",
    "    8: 'Bag',\n",
    "    9: 'Ankle boot'\n",
    "})\n",
    "image_size = dataset_train[0][0].shape"
   ]
  },
  {
   "cell_type": "markdown",
   "metadata": {},
   "source": [
    "### Model Definition"
   ]
  },
  {
   "cell_type": "code",
   "execution_count": 4,
   "metadata": {},
   "outputs": [],
   "source": [
    "class TimiEfficientB3(nn.Module):\n",
    "    def __init__(\n",
    "        self,\n",
    "        input_shape: typing.Tuple[int],\n",
    "        num_classes: int,\n",
    "        freeze_pretrained: bool=False,\n",
    "        tail_fc_dims: typing.Tuple[int] = tuple(),\n",
    "        tail_dropout: float = 0.4\n",
    "    ):\n",
    "        super().__init__()\n",
    "\n",
    "        self.tail_dropout = tail_dropout\n",
    "\n",
    "        self.head = nn.Conv2d(\n",
    "            in_channels=input_shape[0],\n",
    "            out_channels=3,\n",
    "            kernel_size=3,\n",
    "            padding='same'\n",
    "        )\n",
    "\n",
    "        self.eff_b3 = models.efficientnet_b3(pretrained=True)\n",
    "        if freeze_pretrained:\n",
    "            for p in self.eff_b3.parameters():\n",
    "                p.requires_grad = False\n",
    "\n",
    "\n",
    "        if len(tail_fc_dims) == 0:\n",
    "            self.tail = nn.ModuleList([\n",
    "                nn.Linear(\n",
    "                    in_features=1000,\n",
    "                    out_features=num_classes\n",
    "                )\n",
    "            ])\n",
    "        else:\n",
    "            self.tail = nn.ModuleList(\n",
    "                [\n",
    "                    nn.Linear(\n",
    "                        in_features=1000,\n",
    "                        out_features=tail_fc_dims[0]\n",
    "                    )\n",
    "                ] + [\n",
    "                    nn.Linear(\n",
    "                        in_features=tail_fc_dims[i],\n",
    "                        out_features=tail_fc_dims[i+1]\n",
    "                    )\n",
    "                    for i in range(len(tail_fc_dims) - 1)\n",
    "                ] + [\n",
    "                    nn.Linear(\n",
    "                        in_features=tail_fc_dims[-1],\n",
    "                        out_features=num_classes\n",
    "                    )\n",
    "                ]\n",
    "            )\n",
    "        \n",
    "\n",
    "    def forward(self, x):\n",
    "        x = self.head(x)\n",
    "        x = F.relu(x)\n",
    "\n",
    "        x = self.eff_b3(x)\n",
    "        x = F.relu(x)\n",
    "        F.dropout(x, p=self.tail_dropout, training=self.training)\n",
    "\n",
    "        for fc in self.tail[:-1]:\n",
    "            x = fc(x)\n",
    "            x = F.relu(x)\n",
    "            x = F.dropout(x, p=self.tail_dropout, training=self.training)\n",
    "        x = self.tail[-1](x)\n",
    "        x = F.softmax(x, dim=1)\n",
    "        return x\n"
   ]
  },
  {
   "cell_type": "markdown",
   "metadata": {},
   "source": [
    "### Train / Test Loop"
   ]
  },
  {
   "cell_type": "code",
   "execution_count": 5,
   "metadata": {},
   "outputs": [],
   "source": [
    "def train(\n",
    "    model: nn.Module,\n",
    "    X: torch.Tensor,\n",
    "    Y: torch.Tensor,\n",
    "    criterion: nn.Module,\n",
    "    optimizer: torch.optim.Optimizer\n",
    "):\n",
    "    model.train()\n",
    "    optimizer.zero_grad()\n",
    "    out = model(X)\n",
    "    loss = criterion(out, Y)\n",
    "    loss.backward()\n",
    "    optimizer.step()\n",
    "\n",
    "    prediction = torch.argmax(out, dim=1)\n",
    "    correct = (prediction == Y).sum()\n",
    "    total = Y.shape[0]\n",
    "    return loss.item(), correct.item(), total\n",
    "\n",
    "\n",
    "@torch.no_grad()\n",
    "def evaluation(\n",
    "    model: nn.Module,\n",
    "    X: torch.Tensor,\n",
    "    Y: torch.Tensor\n",
    "):\n",
    "    model.eval()\n",
    "    out = model(X)\n",
    "    prediction = torch.argmax(out, dim=1)\n",
    "    correct = (prediction == Y).sum()\n",
    "    total = Y.shape[0]\n",
    "    model.train()\n",
    "    return correct.item(), total"
   ]
  },
  {
   "cell_type": "markdown",
   "metadata": {},
   "source": [
    "### Fit and Plot Functions"
   ]
  },
  {
   "cell_type": "code",
   "execution_count": 6,
   "metadata": {},
   "outputs": [],
   "source": [
    "def transferfit(config: dict=None, summary: bool=False, nested_tqdm: bool=False, use_wandb: bool=True):\n",
    "    if config is None:\n",
    "        config=TransferConfig._get_dict()\n",
    "\n",
    "    if use_wandb:\n",
    "        wandb.init(\n",
    "            project=\"CI_HW3\",\n",
    "            entity=\"indirected-team\",\n",
    "            config=config\n",
    "        )\n",
    "\n",
    "    train_loader = torch.utils.data.DataLoader(dataset_train, batch_size=config['BatchSize'], shuffle=True)\n",
    "    eval_loader = torch.utils.data.DataLoader(dataset_eval, batch_size=config['BatchSize']*2, shuffle=False)\n",
    "    test_loader = torch.utils.data.DataLoader(dataset_test, batch_size=config['BatchSize']*2, shuffle=False)\n",
    "\n",
    "    model = TimiEfficientB3(\n",
    "        input_shape=image_size,\n",
    "        num_classes=label_decode.shape[0],\n",
    "        freeze_pretrained=config['FreezePretrained'],\n",
    "        tail_fc_dims=config['TailFCDims'],\n",
    "        tail_dropout=config['TailFCDropout']\n",
    "    ).to(config['Device'])\n",
    "\n",
    "    criterion = torch.nn.CrossEntropyLoss()\n",
    "    optimizer = torch.optim.Adam(model.parameters(), lr=config['LearningRate'])\n",
    "\n",
    "    with open(config['OutputFile'], 'w') as fp:\n",
    "        fp.write('')\n",
    "\n",
    "    if summary:\n",
    "        print(torchinfo.summary(\n",
    "            model,\n",
    "            input_size=(config['BatchSize'], image_size[0], image_size[1], image_size[2]),\n",
    "            col_names=[\n",
    "                \"input_size\",\n",
    "                \"output_size\",\n",
    "                \"num_params\",\n",
    "            ]\n",
    "        ))\n",
    "\n",
    "    try:\n",
    "        loss_list = []\n",
    "        train_acc_list = []\n",
    "        eval_acc_list = []\n",
    "        for epoch in tqdm(range(config['Epochs'])):\n",
    "            train_epoch_loss = 0\n",
    "            train_epoch_correct = 0\n",
    "            train_epoch_total = 0\n",
    "            gen = tqdm(train_loader, leave=False, desc='Train') if nested_tqdm else train_loader\n",
    "\n",
    "            for batch_x, batch_y in gen:\n",
    "                batch_x = batch_x.to(config['Device'])\n",
    "                batch_y = batch_y.to(config['Device'])\n",
    "                \n",
    "                train_loss, train_correct, train_total = train(model, batch_x, batch_y, criterion, optimizer)\n",
    "\n",
    "                train_epoch_loss += train_loss\n",
    "                train_epoch_correct += train_correct\n",
    "                train_epoch_total += train_total\n",
    "\n",
    "            eval_epoch_correct = 0\n",
    "            eval_epoch_total = 0\n",
    "            gen = tqdm(eval_loader, leave=False, desc='Validation') if nested_tqdm else eval_loader\n",
    "            for batch_x, batch_y in gen:\n",
    "                batch_x = batch_x.to(config['Device'])\n",
    "                batch_y = batch_y.to(config['Device'])\n",
    "                eval_correct, eval_total = evaluation(model, batch_x, batch_y)\n",
    "\n",
    "                eval_epoch_correct += eval_correct\n",
    "                eval_epoch_total += eval_total\n",
    "\n",
    "            train_epoch_loss = train_epoch_loss / len(train_loader)\n",
    "            train_epoch_accuracy = train_epoch_correct / train_epoch_total\n",
    "            eval_epoch_accuracy = eval_epoch_correct / eval_epoch_total\n",
    "\n",
    "            loss_list.append(train_epoch_loss)\n",
    "            train_acc_list.append(train_epoch_accuracy)\n",
    "            eval_acc_list.append(eval_epoch_accuracy)\n",
    "            \n",
    "            if use_wandb:\n",
    "                wandb.log({\n",
    "                    'loss': train_epoch_loss,\n",
    "                    'train accuracy': train_epoch_accuracy,\n",
    "                    'validation accuracy': eval_epoch_accuracy\n",
    "                })\n",
    "            \n",
    "            with open(config['OutputFile'], 'a') as fp:\n",
    "                fp.write(f'Epoch: {epoch + 1} - Loss: {train_epoch_loss:.6f} - Train Accuracy: {train_epoch_accuracy*100:.2f} - Validation Accuracy: {eval_epoch_accuracy*100:.2f}\\n')\n",
    "            # print(f'Epoch: {epoch + 1} - Loss: {train_epoch_loss:.6f} - Train Accuracy: {train_epoch_accuracy*100:.2f} - Validation Accuracy: {eval_epoch_accuracy*100:.2f}')\n",
    "    except KeyboardInterrupt:\n",
    "        pass\n",
    "\n",
    "\n",
    "    test_correct = 0\n",
    "    test_total = 0\n",
    "    for batch_x, batch_y in tqdm(test_loader, desc='Test'):\n",
    "        batch_x = batch_x.to(config['Device'])\n",
    "        batch_y = batch_y.to(config['Device'])\n",
    "        correct, total = evaluation(model, batch_x, batch_y)\n",
    "\n",
    "        test_correct += correct\n",
    "        test_total += total\n",
    "\n",
    "    test_accuracy = test_correct / test_total\n",
    "    with open(config['OutputFile'], 'a') as fp:\n",
    "        fp.write(f'Test Accuracy: {test_accuracy*100:.2f}\\n')\n",
    "    # print(f'Test Accuracy: {test_accuracy*100:.2f}')\n",
    "    if use_wandb:\n",
    "        wandb.log({'test accuracy': test_accuracy})\n",
    "        wandb.finish()\n",
    "    return loss_list, train_acc_list, eval_acc_list, test_accuracy"
   ]
  },
  {
   "cell_type": "code",
   "execution_count": 7,
   "metadata": {},
   "outputs": [],
   "source": [
    "def plots(loss_list, train_acc_list, eval_acc_list, figsize: tuple=(18, 5), saveto: str=None):\n",
    "    fig, axs = plt.subplots(1, 2, squeeze=False, figsize=figsize)\n",
    "    axs[0, 0].plot(\n",
    "        loss_list,\n",
    "        label='Train Loss'\n",
    "    )\n",
    "    axs[0, 0].set_title('Loss Over Epochs')\n",
    "    axs[0, 0].legend()\n",
    "    \n",
    "    axs[0, 1].plot(\n",
    "        train_acc_list,\n",
    "        label='Train Accuracy'\n",
    "    )\n",
    "    axs[0, 1].plot(\n",
    "        eval_acc_list,\n",
    "        label='Validation Accuracy'\n",
    "    )\n",
    "    axs[0, 1].legend()\n",
    "    axs[0, 1].set_title('Accuracy Over Epochs')\n",
    "\n",
    "    if saveto is not None:\n",
    "        fig.savefig(saveto, bbox_inches='tight')"
   ]
  },
  {
   "cell_type": "markdown",
   "metadata": {},
   "source": [
    "### Default Parameters Run"
   ]
  },
  {
   "cell_type": "code",
   "execution_count": 8,
   "metadata": {},
   "outputs": [
    {
     "data": {
      "application/vnd.jupyter.widget-view+json": {
       "model_id": "584c44ced1364a5f92cc9cb1d7e23aa3",
       "version_major": 2,
       "version_minor": 0
      },
      "text/plain": [
       "  0%|          | 0/30 [00:00<?, ?it/s]"
      ]
     },
     "metadata": {},
     "output_type": "display_data"
    },
    {
     "data": {
      "application/vnd.jupyter.widget-view+json": {
       "model_id": "610dbfd60e9a41f2a0b17deb85c318a5",
       "version_major": 2,
       "version_minor": 0
      },
      "text/plain": [
       "Train:   0%|          | 0/469 [00:00<?, ?it/s]"
      ]
     },
     "metadata": {},
     "output_type": "display_data"
    },
    {
     "data": {
      "application/vnd.jupyter.widget-view+json": {
       "model_id": "a73d238e0d8c4e10bdd4eef7e6ccf15a",
       "version_major": 2,
       "version_minor": 0
      },
      "text/plain": [
       "Validation:   0%|          | 0/20 [00:00<?, ?it/s]"
      ]
     },
     "metadata": {},
     "output_type": "display_data"
    },
    {
     "data": {
      "application/vnd.jupyter.widget-view+json": {
       "model_id": "7fbe102dc8ff46e984d8ed2a2c4de318",
       "version_major": 2,
       "version_minor": 0
      },
      "text/plain": [
       "Train:   0%|          | 0/469 [00:00<?, ?it/s]"
      ]
     },
     "metadata": {},
     "output_type": "display_data"
    },
    {
     "data": {
      "application/vnd.jupyter.widget-view+json": {
       "model_id": "4941d97de7404dac8499a07f2a04f155",
       "version_major": 2,
       "version_minor": 0
      },
      "text/plain": [
       "Validation:   0%|          | 0/20 [00:00<?, ?it/s]"
      ]
     },
     "metadata": {},
     "output_type": "display_data"
    },
    {
     "data": {
      "application/vnd.jupyter.widget-view+json": {
       "model_id": "c290ea8f2c4a4c3f95461cd2eb6cb3b1",
       "version_major": 2,
       "version_minor": 0
      },
      "text/plain": [
       "Train:   0%|          | 0/469 [00:00<?, ?it/s]"
      ]
     },
     "metadata": {},
     "output_type": "display_data"
    },
    {
     "data": {
      "application/vnd.jupyter.widget-view+json": {
       "model_id": "4c93cde1265f4f3b93849e70e3e5da86",
       "version_major": 2,
       "version_minor": 0
      },
      "text/plain": [
       "Validation:   0%|          | 0/20 [00:00<?, ?it/s]"
      ]
     },
     "metadata": {},
     "output_type": "display_data"
    },
    {
     "data": {
      "application/vnd.jupyter.widget-view+json": {
       "model_id": "5186b0770e754db48f9bf873794e1ae7",
       "version_major": 2,
       "version_minor": 0
      },
      "text/plain": [
       "Train:   0%|          | 0/469 [00:00<?, ?it/s]"
      ]
     },
     "metadata": {},
     "output_type": "display_data"
    },
    {
     "data": {
      "application/vnd.jupyter.widget-view+json": {
       "model_id": "f5a6166e1e4d4651a1fdf72ce0ba5a1e",
       "version_major": 2,
       "version_minor": 0
      },
      "text/plain": [
       "Validation:   0%|          | 0/20 [00:00<?, ?it/s]"
      ]
     },
     "metadata": {},
     "output_type": "display_data"
    },
    {
     "data": {
      "application/vnd.jupyter.widget-view+json": {
       "model_id": "a480c458d3ba467aba1223f347a90f12",
       "version_major": 2,
       "version_minor": 0
      },
      "text/plain": [
       "Train:   0%|          | 0/469 [00:00<?, ?it/s]"
      ]
     },
     "metadata": {},
     "output_type": "display_data"
    },
    {
     "data": {
      "application/vnd.jupyter.widget-view+json": {
       "model_id": "835015421aaa46bca414a13caf7b0f6b",
       "version_major": 2,
       "version_minor": 0
      },
      "text/plain": [
       "Validation:   0%|          | 0/20 [00:00<?, ?it/s]"
      ]
     },
     "metadata": {},
     "output_type": "display_data"
    },
    {
     "data": {
      "application/vnd.jupyter.widget-view+json": {
       "model_id": "a1ea741f1ce949cab227ca41d3164792",
       "version_major": 2,
       "version_minor": 0
      },
      "text/plain": [
       "Train:   0%|          | 0/469 [00:00<?, ?it/s]"
      ]
     },
     "metadata": {},
     "output_type": "display_data"
    },
    {
     "data": {
      "application/vnd.jupyter.widget-view+json": {
       "model_id": "ed3f1c7a831c4151bc1bdcff5805470a",
       "version_major": 2,
       "version_minor": 0
      },
      "text/plain": [
       "Test:   0%|          | 0/20 [00:00<?, ?it/s]"
      ]
     },
     "metadata": {},
     "output_type": "display_data"
    }
   ],
   "source": [
    "loss_list, train_acc_list, eval_acc_list, test_accuracy = transferfit(use_wandb=False, summary=False, nested_tqdm=True)"
   ]
  },
  {
   "cell_type": "code",
   "execution_count": 9,
   "metadata": {},
   "outputs": [
    {
     "name": "stdout",
     "output_type": "stream",
     "text": [
      "Test Accuracy: 89.24\n"
     ]
    },
    {
     "data": {
      "image/png": "[encoded data removed]",
      "text/plain": [
       "<Figure size 1296x360 with 2 Axes>"
      ]
     },
     "metadata": {
      "needs_background": "light"
     },
     "output_type": "display_data"
    }
   ],
   "source": [
    "print(f'Test Accuracy: {test_accuracy*100:.2f}')\n",
    "plots(loss_list, train_acc_list, eval_acc_list)"
   ]
  },
  {
   "cell_type": "markdown",
   "metadata": {},
   "source": [
    "### Part 2.1 - Unfreezed Model Hyper-Parameter Tuning"
   ]
  },
  {
   "cell_type": "code",
   "execution_count": 108,
   "metadata": {},
   "outputs": [],
   "source": [
    "parameters = TransferConfig._get_dict()\n",
    "parameters = {key: {'value': value} for key, value in parameters.items()}\n",
    "parameters['LearningRate'] = {\n",
    "    'distribution': 'uniform',\n",
    "    'min': 0,\n",
    "    'max': 0.001\n",
    "}\n",
    "parameters['TailFCDropout'] = {\n",
    "    'values': [0.3, 0.4, 0.5]\n",
    "}\n",
    "\n",
    "\n",
    "sweep_config = {\n",
    "    'name': 'Unfreezed-TimiEfficientB3',\n",
    "    'method': 'random',\n",
    "    'metric': {\n",
    "        'name': 'validation accuracy',\n",
    "        'goal': 'maximize'\n",
    "    },\n",
    "    'parameters': parameters\n",
    "}\n",
    "\n",
    "\n",
    "sweep_id = wandb.sweep(\n",
    "    sweep_config,\n",
    "    entity='indirected-team',\n",
    "    project='CI_HW3'\n",
    ")"
   ]
  },
  {
   "cell_type": "code",
   "execution_count": null,
   "metadata": {},
   "outputs": [],
   "source": [
    "wandb.agent(sweep_id, transferfit, count=5, entity='indirected-team', project='CI_HW3')"
   ]
  },
  {
   "cell_type": "markdown",
   "metadata": {},
   "source": [
    "### Part 2.2 - Freezed Model Hyper-Parameter Tuning"
   ]
  },
  {
   "cell_type": "code",
   "execution_count": null,
   "metadata": {},
   "outputs": [],
   "source": [
    "parameters = TransferConfig._get_dict()\n",
    "parameters = {key: {'value': value} for key, value in parameters.items()}\n",
    "parameters['LearningRate'] = {\n",
    "    'distribution': 'uniform',\n",
    "    'min': 0,\n",
    "    'max': 0.001\n",
    "}\n",
    "parameters['TailFCDropout'] = {\n",
    "    'values': [0.3, 0.4, 0.5]\n",
    "}\n",
    "parameters['FreezePretrained'] = {'value': True}\n",
    "\n",
    "\n",
    "sweep_config = {\n",
    "    'name': 'Freezed-TimiEfficientB3',\n",
    "    'method': 'random',\n",
    "    'metric': {\n",
    "        'name': 'validation accuracy',\n",
    "        'goal': 'maximize'\n",
    "    },\n",
    "    'parameters': parameters\n",
    "}\n",
    "\n",
    "\n",
    "sweep_id = wandb.sweep(\n",
    "    sweep_config,\n",
    "    entity='indirected-team',\n",
    "    project='CI_HW3'\n",
    ")"
   ]
  },
  {
   "cell_type": "code",
   "execution_count": null,
   "metadata": {},
   "outputs": [],
   "source": [
    "wandb.agent(sweep_id, transferfit, count=5, entity='indirected-team', project='CI_HW3')"
   ]
  }
 ],
 "metadata": {
  "interpreter": {
   "hash": "2b0c0af5aeeb3f524725e0e82bc78ca02aee18c7e068dd16cf92f429a5a850e7"
  },
  "kernelspec": {
   "display_name": "Python 3.10.4 ('torch-cuda102')",
   "language": "python",
   "name": "python3"
  },
  "language_info": {
   "codemirror_mode": {
    "name": "ipython",
    "version": 3
   },
   "file_extension": ".py",
   "mimetype": "text/x-python",
   "name": "python",
   "nbconvert_exporter": "python",
   "pygments_lexer": "ipython3",
   "version": "3.10.4"
  },
  "orig_nbformat": 4
 },
 "nbformat": 4,
 "nbformat_minor": 2
}
